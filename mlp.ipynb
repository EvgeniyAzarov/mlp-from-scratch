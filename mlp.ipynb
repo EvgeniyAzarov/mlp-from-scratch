{
 "cells": [
  {
   "cell_type": "code",
   "execution_count": 1,
   "metadata": {},
   "outputs": [],
   "source": [
    "%load_ext autoreload\n",
    "%autoreload 2"
   ]
  },
  {
   "cell_type": "code",
   "execution_count": 34,
   "metadata": {},
   "outputs": [],
   "source": [
    "import numpy as np\n",
    "import pandas as pd\n",
    "import matplotlib.pyplot as plt\n",
    "\n",
    "from copy import deepcopy\n",
    "from utils import eval_numerical_gradient, eval_numerical_gradient_array, rel_error"
   ]
  },
  {
   "cell_type": "code",
   "execution_count": 8,
   "metadata": {},
   "outputs": [],
   "source": [
    "data = pd.read_csv(\"data/data6.csv\", sep='\\\\s+', names=[\"x1\", \"x2\", \"y\"])"
   ]
  },
  {
   "cell_type": "code",
   "execution_count": 9,
   "metadata": {},
   "outputs": [
    {
     "data": {
      "text/html": [
       "<div>\n",
       "<style scoped>\n",
       "    .dataframe tbody tr th:only-of-type {\n",
       "        vertical-align: middle;\n",
       "    }\n",
       "\n",
       "    .dataframe tbody tr th {\n",
       "        vertical-align: top;\n",
       "    }\n",
       "\n",
       "    .dataframe thead th {\n",
       "        text-align: right;\n",
       "    }\n",
       "</style>\n",
       "<table border=\"1\" class=\"dataframe\">\n",
       "  <thead>\n",
       "    <tr style=\"text-align: right;\">\n",
       "      <th></th>\n",
       "      <th>x1</th>\n",
       "      <th>x2</th>\n",
       "      <th>y</th>\n",
       "    </tr>\n",
       "  </thead>\n",
       "  <tbody>\n",
       "    <tr>\n",
       "      <th>0</th>\n",
       "      <td>1.699885</td>\n",
       "      <td>1.546782</td>\n",
       "      <td>1</td>\n",
       "    </tr>\n",
       "    <tr>\n",
       "      <th>1</th>\n",
       "      <td>1.641367</td>\n",
       "      <td>2.506392</td>\n",
       "      <td>1</td>\n",
       "    </tr>\n",
       "    <tr>\n",
       "      <th>2</th>\n",
       "      <td>2.408797</td>\n",
       "      <td>1.430931</td>\n",
       "      <td>1</td>\n",
       "    </tr>\n",
       "    <tr>\n",
       "      <th>3</th>\n",
       "      <td>3.255215</td>\n",
       "      <td>1.792221</td>\n",
       "      <td>1</td>\n",
       "    </tr>\n",
       "    <tr>\n",
       "      <th>4</th>\n",
       "      <td>2.361248</td>\n",
       "      <td>1.980791</td>\n",
       "      <td>1</td>\n",
       "    </tr>\n",
       "    <tr>\n",
       "      <th>...</th>\n",
       "      <td>...</td>\n",
       "      <td>...</td>\n",
       "      <td>...</td>\n",
       "    </tr>\n",
       "    <tr>\n",
       "      <th>355</th>\n",
       "      <td>0.007796</td>\n",
       "      <td>3.741013</td>\n",
       "      <td>1</td>\n",
       "    </tr>\n",
       "    <tr>\n",
       "      <th>356</th>\n",
       "      <td>-2.405753</td>\n",
       "      <td>2.000000</td>\n",
       "      <td>1</td>\n",
       "    </tr>\n",
       "    <tr>\n",
       "      <th>357</th>\n",
       "      <td>2.373454</td>\n",
       "      <td>4.619262</td>\n",
       "      <td>1</td>\n",
       "    </tr>\n",
       "    <tr>\n",
       "      <th>358</th>\n",
       "      <td>-1.056150</td>\n",
       "      <td>2.000000</td>\n",
       "      <td>1</td>\n",
       "    </tr>\n",
       "    <tr>\n",
       "      <th>359</th>\n",
       "      <td>-0.669820</td>\n",
       "      <td>2.000000</td>\n",
       "      <td>1</td>\n",
       "    </tr>\n",
       "  </tbody>\n",
       "</table>\n",
       "<p>360 rows × 3 columns</p>\n",
       "</div>"
      ],
      "text/plain": [
       "           x1        x2  y\n",
       "0    1.699885  1.546782  1\n",
       "1    1.641367  2.506392  1\n",
       "2    2.408797  1.430931  1\n",
       "3    3.255215  1.792221  1\n",
       "4    2.361248  1.980791  1\n",
       "..        ...       ... ..\n",
       "355  0.007796  3.741013  1\n",
       "356 -2.405753  2.000000  1\n",
       "357  2.373454  4.619262  1\n",
       "358 -1.056150  2.000000  1\n",
       "359 -0.669820  2.000000  1\n",
       "\n",
       "[360 rows x 3 columns]"
      ]
     },
     "execution_count": 9,
     "metadata": {},
     "output_type": "execute_result"
    }
   ],
   "source": [
    "data"
   ]
  },
  {
   "cell_type": "markdown",
   "metadata": {},
   "source": [
    "## EDA"
   ]
  },
  {
   "cell_type": "code",
   "execution_count": 10,
   "metadata": {},
   "outputs": [
    {
     "data": {
      "image/png": "[encoded data removed]",
      "text/plain": [
       "<Figure size 640x480 with 1 Axes>"
      ]
     },
     "metadata": {},
     "output_type": "display_data"
    }
   ],
   "source": [
    "blue = data[data.y == 1]\n",
    "red = data[data.y == 0]\n",
    "plt.scatter(blue.x1, blue.x2, color=\"blue\")\n",
    "plt.scatter(red.x1, red.x2, color=\"red\")\n",
    "plt.show()"
   ]
  },
  {
   "cell_type": "markdown",
   "metadata": {},
   "source": [
    "## Layers"
   ]
  },
  {
   "cell_type": "markdown",
   "metadata": {},
   "source": [
    "Abstract class for all layers"
   ]
  },
  {
   "cell_type": "code",
   "execution_count": 95,
   "metadata": {},
   "outputs": [],
   "source": [
    "from typing import Any\n",
    "import abc\n",
    "\n",
    "class Layer(abc.ABC):\n",
    "    def __init__(self):\n",
    "        # will be used for backward step\n",
    "        self.cache = {}\n",
    "    \n",
    "    @abc.abstractmethod\n",
    "    def forward(self):\n",
    "        pass\n",
    "\n",
    "    @abc.abstractmethod\n",
    "    def backward(self):\n",
    "        pass\n",
    "\n",
    "    def __call__(self, *args, **kwargs):\n",
    "        return self.forward(*args, **kwargs)"
   ]
  },
  {
   "cell_type": "code",
   "execution_count": 96,
   "metadata": {},
   "outputs": [
    {
     "name": "stdout",
     "output_type": "stream",
     "text": [
      "dx rel error:  9.614152067053775e-12\n",
      "dw rel error 1.8133642735544222e-15\n",
      "db rel error -2.1593837828959295e-14\n"
     ]
    }
   ],
   "source": [
    "class Linear(Layer):\n",
    "    def __init__(self, n_in, n_out, w_scale=1e-3) -> None:\n",
    "        super().__init__()\n",
    "        self.weight = np.random.normal(0, w_scale, size=(n_in, n_out))\n",
    "        self.bias = np.zeros(n_out)\n",
    "        self.n_in = n_in\n",
    "        self.n_out = n_out\n",
    "\n",
    "    def forward(self, x) -> Any:\n",
    "        self.cache['x'] = x  \n",
    "\n",
    "        out = x @ self.weight + self.bias\n",
    "\n",
    "        return out\n",
    "\n",
    "    def backward(self, grad_upstream):\n",
    "        x = self.cache['x']\n",
    "\n",
    "        dx = (grad_upstream @ self.weight.T).reshape(-1, *x.shape[1:])\n",
    "        dw = x.reshape(x.shape[0], -1).T @ grad_upstream\n",
    "        db = grad_upstream.sum(axis=0)\n",
    "\n",
    "        return {\n",
    "            \"dx\": dx,\n",
    "            \"dw\": dw,\n",
    "            \"db\": db,\n",
    "        } \n",
    "\n",
    "\n",
    "# test linear layer\n",
    "np.random.seed(42)  # For reproducibility\n",
    "n_in, n_out, batch_size = 3, 2, 4\n",
    "layer = Linear(n_in, n_out)\n",
    "x = np.random.randn(batch_size, n_in)\n",
    "grad_upstream = np.random.randn(batch_size, n_out)\n",
    "\n",
    "out = layer(x)\n",
    "grads = layer.backward(grad_upstream)\n",
    "\n",
    "num_dx = eval_numerical_gradient_array(lambda x: layer(x), x, grad_upstream)\n",
    "print(\"dx rel error: \", rel_error(num_dx, grads[\"dx\"]))\n",
    "\n",
    "def loss_w(l, w):\n",
    "    l.weight = w\n",
    "    return layer(x) \n",
    "num_grad_w = eval_numerical_gradient_array(lambda w: loss_w(deepcopy(layer), w), layer.weight, grad_upstream)\n",
    "print(\"dw rel error\", rel_error(num_grad_w, grads[\"dw\"]))\n",
    "\n",
    "def loss_b(l, b):\n",
    "    l.bias = b\n",
    "    return l(x) \n",
    "num_grad_b = eval_numerical_gradient_array(lambda b: loss_b(deepcopy(layer), b), layer.bias, grad_upstream)\n",
    "print(\"db rel error\", rel_error(num_grad_b, grads[\"db\"]))"
   ]
  },
  {
   "cell_type": "code",
   "execution_count": 97,
   "metadata": {},
   "outputs": [
    {
     "name": "stdout",
     "output_type": "stream",
     "text": [
      "dx rel error: -3.739601221279069e-14\n"
     ]
    }
   ],
   "source": [
    "class ReLU(Layer):\n",
    "    def __init__(self):\n",
    "        super().__init__()\n",
    "\n",
    "    def forward(self, x):\n",
    "        self.cache[\"x\"] = x\n",
    "        return (x > 0) * x\n",
    "\n",
    "    def backward(self, grad_upstream):\n",
    "        x = self.cache[\"x\"]\n",
    "\n",
    "        return {\n",
    "            \"dx\": (x > 0) * grad_upstream\n",
    "        }\n",
    "\n",
    "\n",
    "# test relu\n",
    "np.random.seed(42)  # For reproducibility\n",
    "batch_size, n_in = 4, 3\n",
    "layer = ReLU()\n",
    "x = np.random.randn(batch_size, n_in) \n",
    "grad_upstream = np.random.randn(batch_size, n_in) \n",
    "\n",
    "out = layer(x)\n",
    "grads = layer.backward(grad_upstream)\n",
    "\n",
    "num_dx = eval_numerical_gradient_array(lambda x: layer(x), x, grad_upstream)\n",
    "print(\"dx rel error:\", rel_error(grads[\"dx\"], num_dx))"
   ]
  },
  {
   "cell_type": "code",
   "execution_count": 98,
   "metadata": {},
   "outputs": [
    {
     "name": "stdout",
     "output_type": "stream",
     "text": [
      "dx rel error:  -6.559217162934357e-08\n"
     ]
    }
   ],
   "source": [
    "def softmax_loss(x, y):\n",
    "    loss, dx = None, None\n",
    "    N, C = x.shape\n",
    "    x1 = x - x.max(axis=1, keepdims=True)\n",
    "\n",
    "    p = np.exp(x1) / np.exp(x1).sum(axis=1, keepdims=True)\n",
    "\n",
    "    loss = -np.log(p[np.arange(N), y]).mean()\n",
    "\n",
    "    dldx = p\n",
    "    dldx[np.arange(N), y] -= 1\n",
    "    dx = dldx / N\n",
    "\n",
    "    return loss, dx\n",
    "\n",
    "# test loss grad\n",
    "np.random.seed(44)\n",
    "batch_size, n_classes = 3, 4\n",
    "x = np.random.normal(size=(batch_size, n_classes))\n",
    "y = np.random.normal(size=(batch_size, n_classes)).argmax(axis=-1)\n",
    "\n",
    "loss, dx = softmax_loss(x, y)\n",
    "num_dx = eval_numerical_gradient(lambda x: softmax_loss(x, y)[0], x, h=1e-3)\n",
    "print(\"dx rel error: \", rel_error(dx, num_dx))"
   ]
  },
  {
   "cell_type": "markdown",
   "metadata": {},
   "source": [
    "## Network"
   ]
  },
  {
   "cell_type": "code",
   "execution_count": 216,
   "metadata": {},
   "outputs": [],
   "source": [
    "class Net(Layer):\n",
    "    def __init__(self, weight_scale=1e-3):\n",
    "        super().__init__()\n",
    "        self.layers = [\n",
    "            Linear(2, 5, weight_scale),\n",
    "            ReLU(),\n",
    "            Linear(5, 5, weight_scale),\n",
    "            ReLU(),\n",
    "            Linear(5, 2, weight_scale)\n",
    "        ]\n",
    "    \n",
    "    def forward(self, x):\n",
    "        z = x\n",
    "        for layer in self.layers:\n",
    "            z = layer(z)\n",
    "        \n",
    "        return z\n",
    "    \n",
    "    def backward(self, grad_upstream, lr=1e-3) -> None:\n",
    "        n = len(self.layers)\n",
    "        for i in range(n):\n",
    "            idx = n - 1 - i\n",
    "            grads = self.layers[idx].backward(grad_upstream)\n",
    "            grad_upstream = grads[\"dx\"]\n",
    "\n",
    "            if isinstance(self.layers[idx], Linear):\n",
    "                self.layers[idx].weight -= lr * grads[\"dw\"]\n",
    "                self.layers[idx].bias -= lr * grads[\"db\"]"
   ]
  },
  {
   "cell_type": "code",
   "execution_count": 234,
   "metadata": {},
   "outputs": [],
   "source": [
    "np.random.seed(1234)\n",
    "net = Net(weight_scale=1)"
   ]
  },
  {
   "cell_type": "code",
   "execution_count": 218,
   "metadata": {},
   "outputs": [
    {
     "data": {
      "text/plain": [
       "array([0, 0, 1, 1, 0, 0, 0, 0, 0, 0, 0, 0, 0, 0, 0, 0, 0, 0, 0, 0, 0, 0,\n",
       "       0, 1, 0, 1, 0, 0, 0, 0, 1, 0, 0, 0, 0, 0, 0, 0, 0, 0, 0, 1, 0, 0,\n",
       "       0, 1, 0, 0, 0, 0, 0, 0, 0, 0, 0, 0, 0, 0, 0, 0, 0, 0, 0, 0, 0, 0,\n",
       "       0, 0, 0, 0, 0, 0, 0, 0, 0, 1, 0, 0, 0, 0, 0, 0, 0, 0, 0, 0, 1, 0,\n",
       "       1, 0, 0, 0, 0, 0, 0, 1, 0, 0, 0, 0, 1, 1, 0, 1, 0, 0, 0, 0, 0, 0,\n",
       "       0, 0, 0, 0, 0, 0, 0, 0, 0, 0, 0, 0, 0, 0, 0, 0, 0, 0, 0, 0, 1, 1,\n",
       "       0, 0, 1, 1, 1, 0, 0, 1, 1, 0, 1, 0, 0, 1, 0, 1, 0, 0, 0, 0, 0, 0,\n",
       "       0, 0, 0, 1, 0, 1, 0, 0, 1, 1, 0, 0, 1, 0, 0, 1, 1, 1, 0, 0, 0, 0,\n",
       "       0, 1, 1, 0, 0, 1, 0, 1, 1, 1, 0, 1, 0, 0, 0, 1, 1, 1, 1, 0, 1, 0,\n",
       "       0, 1, 1, 0, 1, 1, 0, 0, 0, 0, 0, 0, 0, 0, 1, 1, 1, 0, 0, 0, 1, 0,\n",
       "       0, 1, 1, 0, 0, 0, 0, 0, 1, 0, 0, 0, 0, 0, 0, 1, 0, 0, 1, 1, 0, 1,\n",
       "       0, 1, 0, 0, 0, 1, 0, 1, 0, 0, 1, 0, 0, 1, 0, 0, 1, 1, 0, 0, 0, 0,\n",
       "       0, 0, 0, 0, 0, 1, 1, 0, 0, 1, 0, 0, 0, 0, 1, 0, 0, 0, 0, 0, 1, 0,\n",
       "       0, 1, 0, 1, 1, 0, 1, 1, 1, 1, 0, 1, 1, 0, 1, 1, 1, 0, 0, 0, 0, 1,\n",
       "       1, 0, 0, 1, 0, 1, 0, 1, 0, 0, 0, 0, 0, 0, 0, 1, 1, 0, 0, 0, 1, 0,\n",
       "       1, 0, 0, 0, 0, 0, 1, 0, 0, 1, 0, 0, 1, 1, 0, 1, 1, 1, 1, 1, 1, 0,\n",
       "       0, 0, 0, 0, 1, 0, 1, 0])"
      ]
     },
     "execution_count": 218,
     "metadata": {},
     "output_type": "execute_result"
    }
   ],
   "source": [
    "logits = net(data[[\"x1\", \"x2\"]])\n",
    "pred = np.argmax(logits.to_numpy(), axis=-1)\n",
    "pred"
   ]
  },
  {
   "cell_type": "code",
   "execution_count": 219,
   "metadata": {},
   "outputs": [
    {
     "data": {
      "image/png": "[encoded data removed]",
      "text/plain": [
       "<Figure size 640x480 with 1 Axes>"
      ]
     },
     "metadata": {},
     "output_type": "display_data"
    }
   ],
   "source": [
    "blue = data[pred == 1]\n",
    "red = data[pred == 0]\n",
    "plt.scatter(blue.x1, blue.x2, color=\"blue\")\n",
    "plt.scatter(red.x1, red.x2, color=\"red\")\n",
    "plt.show()"
   ]
  },
  {
   "cell_type": "markdown",
   "metadata": {},
   "source": [
    "## Training"
   ]
  },
  {
   "cell_type": "code",
   "execution_count": 221,
   "metadata": {},
   "outputs": [
    {
     "name": "stderr",
     "output_type": "stream",
     "text": [
      "/home/evgeniy/programming/study/univ/stat_algos/.venv/lib/python3.12/site-packages/tqdm/auto.py:21: TqdmWarning: IProgress not found. Please update jupyter and ipywidgets. See https://ipywidgets.readthedocs.io/en/stable/user_install.html\n",
      "  from .autonotebook import tqdm as notebook_tqdm\n"
     ]
    }
   ],
   "source": [
    "from tqdm.auto import tqdm"
   ]
  },
  {
   "cell_type": "code",
   "execution_count": 235,
   "metadata": {},
   "outputs": [],
   "source": [
    "np.random.seed(1234)\n",
    "net = Net(weight_scale=1)"
   ]
  },
  {
   "cell_type": "code",
   "execution_count": 240,
   "metadata": {},
   "outputs": [
    {
     "name": "stderr",
     "output_type": "stream",
     "text": [
      "  0%|          | 0/10000 [00:00<?, ?it/s]"
     ]
    },
    {
     "name": "stderr",
     "output_type": "stream",
     "text": [
      "100%|██████████| 10000/10000 [00:09<00:00, 1014.36it/s]\n"
     ]
    }
   ],
   "source": [
    "n_iter = 10000\n",
    "lr = 1e-2\n",
    "\n",
    "loss_history = {}\n",
    "\n",
    "for i in tqdm(range(n_iter)):\n",
    "    logits = net(data[[\"x1\", \"x2\"]].to_numpy())\n",
    "    y = data[\"y\"].to_numpy()\n",
    "    loss, dx = softmax_loss(logits, y)\n",
    "    loss_history[i] = loss\n",
    "    \n",
    "    net.backward(dx, lr=lr)"
   ]
  },
  {
   "cell_type": "code",
   "execution_count": 249,
   "metadata": {},
   "outputs": [
    {
     "data": {
      "image/png": "[encoded data removed]",
      "text/plain": [
       "<Figure size 640x480 with 1 Axes>"
      ]
     },
     "metadata": {},
     "output_type": "display_data"
    }
   ],
   "source": [
    "plt.plot(list(loss_history.keys()), list(loss_history.values()))\n",
    "plt.xlabel(\"it\")\n",
    "plt.ylabel(\"loss\")\n",
    "plt.title(\"Train loss\")\n",
    "plt.show()"
   ]
  },
  {
   "cell_type": "code",
   "execution_count": 242,
   "metadata": {},
   "outputs": [],
   "source": [
    "logits = net(data[[\"x1\", \"x2\"]])\n",
    "pred = np.argmax(logits.to_numpy(), axis=-1)"
   ]
  },
  {
   "cell_type": "code",
   "execution_count": 250,
   "metadata": {},
   "outputs": [
    {
     "data": {
      "image/png": "[encoded data removed]",
      "text/plain": [
       "<Figure size 640x480 with 1 Axes>"
      ]
     },
     "metadata": {},
     "output_type": "display_data"
    }
   ],
   "source": [
    "blue = data[pred == 1]\n",
    "red = data[pred == 0]\n",
    "plt.scatter(blue.x1, blue.x2, color=\"blue\")\n",
    "plt.scatter(red.x1, red.x2, color=\"red\")\n",
    "plt.title(\"Classification\")\n",
    "plt.show()"
   ]
  },
  {
   "cell_type": "code",
   "execution_count": 247,
   "metadata": {},
   "outputs": [
    {
     "name": "stdout",
     "output_type": "stream",
     "text": [
      "Train accuracy: 98.06%\n"
     ]
    }
   ],
   "source": [
    "print(f\"Train accuracy: {(data[\"y\"] == pred).mean() * 100:.2f}%\")"
   ]
  }
 ],
 "metadata": {
  "kernelspec": {
   "display_name": ".venv",
   "language": "python",
   "name": "python3"
  },
  "language_info": {
   "codemirror_mode": {
    "name": "ipython",
    "version": 3
   },
   "file_extension": ".py",
   "mimetype": "text/x-python",
   "name": "python",
   "nbconvert_exporter": "python",
   "pygments_lexer": "ipython3",
   "version": "3.12.5"
  }
 },
 "nbformat": 4,
 "nbformat_minor": 2
}
